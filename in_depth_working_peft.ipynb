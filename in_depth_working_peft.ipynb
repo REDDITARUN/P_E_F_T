{
 "cells": [
  {
   "cell_type": "markdown",
   "metadata": {},
   "source": [
    "## LoRA (Low-Rank Adaptation)"
   ]
  },
  {
   "cell_type": "code",
   "execution_count": 2,
   "metadata": {},
   "outputs": [
    {
     "name": "stdout",
     "output_type": "stream",
     "text": [
      "Defaulting to user installation because normal site-packages is not writeable\n",
      "Collecting numpy\n",
      "  Downloading numpy-2.1.1-cp312-cp312-win_amd64.whl.metadata (59 kB)\n",
      "Downloading numpy-2.1.1-cp312-cp312-win_amd64.whl (12.6 MB)\n",
      "   ---------------------------------------- 0.0/12.6 MB ? eta -:--:--\n",
      "   ------- -------------------------------- 2.4/12.6 MB 14.9 MB/s eta 0:00:01\n",
      "   ------------------ --------------------- 5.8/12.6 MB 17.6 MB/s eta 0:00:01\n",
      "   ---------------------- ----------------- 7.1/12.6 MB 12.8 MB/s eta 0:00:01\n",
      "   ------------------------- -------------- 8.1/12.6 MB 10.5 MB/s eta 0:00:01\n",
      "   ---------------------------------------  12.3/12.6 MB 12.3 MB/s eta 0:00:01\n",
      "   ---------------------------------------- 12.6/12.6 MB 11.8 MB/s eta 0:00:00\n",
      "Installing collected packages: numpy\n",
      "Successfully installed numpy-2.1.1\n",
      "Note: you may need to restart the kernel to use updated packages.\n"
     ]
    }
   ],
   "source": [
    "pip install numpy"
   ]
  },
  {
   "cell_type": "code",
   "execution_count": 13,
   "metadata": {},
   "outputs": [
    {
     "name": "stdout",
     "output_type": "stream",
     "text": [
      "Original W0:\n",
      "[[1 2 3]\n",
      " [4 5 6]]\n",
      "\n",
      "LoRA update (ΔW):\n",
      "[[0.03 0.04 0.05]\n",
      " [0.06 0.08 0.1 ]]\n",
      "\n",
      "Final adapted W:\n",
      "[[1.03 2.04 3.05]\n",
      " [4.06 5.08 6.1 ]]\n"
     ]
    }
   ],
   "source": [
    "# Original weight matrix\n",
    "W0 = np.array([[1, 2, 3],\n",
    "                [4, 5, 6]])\n",
    "\n",
    "# Low-rank matrices\n",
    "A = np.array([[0.1, 0.2]])  # Shape: (1, 2)\n",
    "B = np.array([[0.3],\n",
    "              [0.4],\n",
    "              [0.5]])  # Shape: (3, 1)\n",
    "\n",
    "# LoRA update\n",
    "delta_W = np.dot(A.T, B.T)\n",
    "\n",
    "# Final adapted weight\n",
    "W = W0 + delta_W\n",
    "\n",
    "print(\"Original W0:\")\n",
    "print(W0)\n",
    "print(\"\\nLoRA update (ΔW):\")\n",
    "print(delta_W)\n",
    "print(\"\\nFinal adapted W:\")\n",
    "print(W)"
   ]
  },
  {
   "cell_type": "markdown",
   "metadata": {},
   "source": [
    "## AdaLoRA (Adaptive LoRA)"
   ]
  },
  {
   "cell_type": "code",
   "execution_count": 5,
   "metadata": {},
   "outputs": [
    {
     "name": "stdout",
     "output_type": "stream",
     "text": [
      "Original W0:\n",
      "[[1 2 3]\n",
      " [4 5 6]]\n",
      "\n",
      "AdaLoRA update (ΔW):\n",
      "[[0.084 0.095 0.106]\n",
      " [0.198 0.225 0.252]]\n",
      "\n",
      "Final adapted W:\n",
      "[[1.084 2.095 3.106]\n",
      " [4.198 5.225 6.252]]\n",
      "\n",
      "Pruned AdaLoRA update (ΔW):\n",
      "[[0.03  0.035 0.04 ]\n",
      " [0.09  0.105 0.12 ]]\n"
     ]
    }
   ],
   "source": [
    "# Original weight matrix\n",
    "W0 = np.array([[1, 2, 3],\n",
    "                [4, 5, 6]])\n",
    "\n",
    "# Simulated SVD components\n",
    "P = np.array([[0.1, 0.2],\n",
    "              [0.3, 0.4]])  # Left singular vectors\n",
    "Lambda = np.array([0.5, 0.3])  # Singular values\n",
    "Q = np.array([[0.6, 0.7, 0.8],\n",
    "              [0.9, 1.0, 1.1]])  # Right singular vectors\n",
    "\n",
    "# AdaLoRA update\n",
    "delta_W = np.dot(P * Lambda, Q)\n",
    "\n",
    "# Final adapted weight\n",
    "W = W0 + delta_W\n",
    "\n",
    "print(\"Original W0:\")\n",
    "print(W0)\n",
    "print(\"\\nAdaLoRA update (ΔW):\")\n",
    "print(delta_W)\n",
    "print(\"\\nFinal adapted W:\")\n",
    "print(W)\n",
    "\n",
    "# Simulating importance-based pruning\n",
    "Lambda_pruned = np.array([0.5, 0])  # Prune the less important singular value\n",
    "delta_W_pruned = np.dot(P * Lambda_pruned, Q)\n",
    "\n",
    "print(\"\\nPruned AdaLoRA update (ΔW):\")\n",
    "print(delta_W_pruned)"
   ]
  },
  {
   "cell_type": "markdown",
   "metadata": {},
   "source": [
    " ## IA³ (Infused Adapter by Inhibiting and Amplifying Inner Activations)"
   ]
  },
  {
   "cell_type": "code",
   "execution_count": 6,
   "metadata": {},
   "outputs": [
    {
     "name": "stdout",
     "output_type": "stream",
     "text": [
      "Original activations:\n",
      "[[1 2 3]\n",
      " [4 5 6]]\n",
      "\n",
      "Rescaling vector:\n",
      "[0.5 1.5 1. ]\n",
      "\n",
      "Rescaled activations:\n",
      "[[0.5 3.  3. ]\n",
      " [2.  7.5 6. ]]\n"
     ]
    }
   ],
   "source": [
    "# Original activations\n",
    "x = np.array([[1, 2, 3],\n",
    "              [4, 5, 6]])\n",
    "\n",
    "# Learned rescaling vector\n",
    "l = np.array([0.5, 1.5, 1.0])\n",
    "\n",
    "# IA³ rescaling\n",
    "y = x * l  # Element-wise multiplication\n",
    "\n",
    "print(\"Original activations:\")\n",
    "print(x)\n",
    "print(\"\\nRescaling vector:\")\n",
    "print(l)\n",
    "print(\"\\nRescaled activations:\")\n",
    "print(y)"
   ]
  },
  {
   "cell_type": "markdown",
   "metadata": {},
   "source": [
    "## LoHa (Low-Rank Hadamard Product)"
   ]
  },
  {
   "cell_type": "code",
   "execution_count": 7,
   "metadata": {},
   "outputs": [
    {
     "name": "stdout",
     "output_type": "stream",
     "text": [
      "Original W0:\n",
      "[[1 2 3]\n",
      " [4 5 6]]\n",
      "\n",
      "LoHa update (ΔW):\n",
      "[[0.039  0.0462 0.054 ]\n",
      " [0.104  0.1232 0.144 ]]\n",
      "\n",
      "Final adapted W:\n",
      "[[1.039  2.0462 3.054 ]\n",
      " [4.104  5.1232 6.144 ]]\n"
     ]
    }
   ],
   "source": [
    "# Original weight matrix\n",
    "W0 = np.array([[1, 2, 3],\n",
    "                [4, 5, 6]])\n",
    "\n",
    "# Low-rank matrices\n",
    "A1 = np.array([[0.1, 0.2]])\n",
    "B1 = np.array([[1.0],\n",
    "               [1.1],\n",
    "               [1.2]])\n",
    "\n",
    "A2 = np.array([[0.3, 0.4]])\n",
    "B2 = np.array([[1.3],\n",
    "               [1.4],\n",
    "               [1.5]])\n",
    "\n",
    "# LoHa update\n",
    "delta_W1 = np.dot(A1.T, B1.T)\n",
    "delta_W2 = np.dot(A2.T, B2.T)\n",
    "delta_W = delta_W1 * delta_W2  # Hadamard product\n",
    "\n",
    "# Final adapted weight\n",
    "W = W0 + delta_W\n",
    "\n",
    "print(\"Original W0:\")\n",
    "print(W0)\n",
    "print(\"\\nLoHa update (ΔW):\")\n",
    "print(delta_W)\n",
    "print(\"\\nFinal adapted W:\")\n",
    "print(W)"
   ]
  },
  {
   "cell_type": "markdown",
   "metadata": {},
   "source": [
    "## LoKr (Low-Rank Kronecker Product)"
   ]
  },
  {
   "cell_type": "code",
   "execution_count": 12,
   "metadata": {},
   "outputs": [
    {
     "name": "stdout",
     "output_type": "stream",
     "text": [
      "Original W0:\n",
      "[[1 2 3 4]\n",
      " [5 6 7 8]]\n",
      "\n",
      "Kronecker product result (A ⊗ B):\n",
      "[[0.09  0.121 0.096 0.156]\n",
      " [0.2   0.198 0.264 0.182]]\n",
      "\n",
      "After element-wise multiplication with C:\n",
      "[[0.09  0.121 0.096 0.156]\n",
      " [0.2   0.198 0.264 0.182]]\n",
      "\n",
      "Final adapted W:\n",
      "[[1.09  2.121 3.096 4.156]\n",
      " [5.2   6.198 7.264 8.182]]\n"
     ]
    }
   ],
   "source": [
    "# Original weight matrix\n",
    "W0 = np.array([[1, 2, 3, 4],\n",
    "                [5, 6, 7, 8]])  # Shape: (2, 4)\n",
    "\n",
    "# Low-rank matrices\n",
    "A = np.array([[0.1], [0.2]])  # Shape: (2, 1)\n",
    "B = np.array([[1.0, 1.1, 1.2, 1.3]])  # Shape: (1, 4)\n",
    "\n",
    "# LoKr update\n",
    "delta_W = np.kron(A, B)  # Kronecker product, shape will be (2, 4)\n",
    "\n",
    "# Optional third matrix (must match the shape of delta_W)\n",
    "C = np.array([[0.9, 1.1, 0.8, 1.2],\n",
    "              [1.0, 0.9, 1.1, 0.7]])  # Shape: (2, 4)\n",
    "\n",
    "# Element-wise multiplication with optional matrix\n",
    "delta_W = delta_W * C\n",
    "\n",
    "# Final adapted weight\n",
    "W = W0 + delta_W\n",
    "\n",
    "print(\"Original W0:\")\n",
    "print(W0)\n",
    "print(\"\\nKronecker product result (A ⊗ B):\")\n",
    "print(delta_W)\n",
    "print(\"\\nAfter element-wise multiplication with C:\")\n",
    "print(delta_W)\n",
    "print(\"\\nFinal adapted W:\")\n",
    "print(W)"
   ]
  },
  {
   "cell_type": "code",
   "execution_count": null,
   "metadata": {},
   "outputs": [],
   "source": []
  }
 ],
 "metadata": {
  "kernelspec": {
   "display_name": "Python 3",
   "language": "python",
   "name": "python3"
  },
  "language_info": {
   "codemirror_mode": {
    "name": "ipython",
    "version": 3
   },
   "file_extension": ".py",
   "mimetype": "text/x-python",
   "name": "python",
   "nbconvert_exporter": "python",
   "pygments_lexer": "ipython3",
   "version": "3.12.6"
  }
 },
 "nbformat": 4,
 "nbformat_minor": 2
}
